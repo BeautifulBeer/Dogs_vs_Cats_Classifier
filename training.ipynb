{
 "cells": [
  {
   "cell_type": "code",
   "execution_count": 31,
   "metadata": {},
   "outputs": [],
   "source": [
    "from torchvision.models import resnet50\n",
    "import torch\n",
    "import time\n",
    "import importlib\n",
    "import preprocessing"
   ]
  },
  {
   "cell_type": "code",
   "execution_count": 24,
   "metadata": {},
   "outputs": [],
   "source": [
    "def get_model():\n",
    "    model_ft = resnet50(pretrained=True)\n",
    "    input_features = model_ft.fc.in_features\n",
    "    model_ft.fc = torch.nn.Linear(input_features, 2)\n",
    "    if torch.cuda.is_available():\n",
    "        model_ft = model_ft.cuda()\n",
    "    return model_ft\n",
    "\n",
    "def training(train_data, valid_data, epoch=25, learning_rate=0.001, momentum=0.9):\n",
    "    begin = time.time()\n",
    "    \n",
    "    datasets = {'train' : train_data.dataset, 'valid' : valid_data.dataset}\n",
    "    datasets_size = {'train': len(train_data.dataset), 'valid' : len(valid_data.dataset)}\n",
    "    \n",
    "    model_ft = get_model()\n",
    "    \n",
    "    \n",
    "    "
   ]
  },
  {
   "cell_type": "code",
   "execution_count": 33,
   "metadata": {},
   "outputs": [
    {
     "name": "stdout",
     "output_type": "stream",
     "text": [
      "{'train': Dataset ImageFolder\n",
      "    Number of datapoints: 22500\n",
      "    Root location: ./dogs-vs-cats-redux-kernels-edition/train/train\n",
      "    StandardTransform\n",
      "Transform: Compose(\n",
      "               Resize(size=(224, 224), interpolation=PIL.Image.BILINEAR)\n",
      "               ToTensor()\n",
      "               Normalize(mean=[0.485, 0.456, 0.406], std=[0.229, 0.224, 0.225])\n",
      "           ), 'valid': Dataset ImageFolder\n",
      "    Number of datapoints: 2500\n",
      "    Root location: ./dogs-vs-cats-redux-kernels-edition/train/valid\n",
      "    StandardTransform\n",
      "Transform: Compose(\n",
      "               Resize(size=(224, 224), interpolation=PIL.Image.BILINEAR)\n",
      "               ToTensor()\n",
      "               Normalize(mean=[0.485, 0.456, 0.406], std=[0.229, 0.224, 0.225])\n",
      "           )}\n",
      "{'train': 22500, 'valid': 2500}\n"
     ]
    }
   ],
   "source": [
    "train_data = preprocessing.dataset_load('./dogs-vs-cats-redux-kernels-edition/train/train', 64, True, 3)\n",
    "valid_data = preprocessing.dataset_load('./dogs-vs-cats-redux-kernels-edition/train/valid', 64, True, 3)\n",
    "\n",
    "training(train_data, valid_data)"
   ]
  },
  {
   "cell_type": "code",
   "execution_count": null,
   "metadata": {},
   "outputs": [],
   "source": []
  },
  {
   "cell_type": "code",
   "execution_count": null,
   "metadata": {},
   "outputs": [],
   "source": []
  }
 ],
 "metadata": {
  "kernelspec": {
   "display_name": "Python 3",
   "language": "python",
   "name": "python3"
  },
  "language_info": {
   "codemirror_mode": {
    "name": "ipython",
    "version": 3
   },
   "file_extension": ".py",
   "mimetype": "text/x-python",
   "name": "python",
   "nbconvert_exporter": "python",
   "pygments_lexer": "ipython3",
   "version": "3.7.6"
  }
 },
 "nbformat": 4,
 "nbformat_minor": 4
}
