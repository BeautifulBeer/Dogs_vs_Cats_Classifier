{
 "cells": [
  {
   "cell_type": "code",
   "execution_count": 1,
   "metadata": {},
   "outputs": [],
   "source": [
    "from torchvision.models import resnet50\n",
    "from torch.autograd import Variable\n",
    "import torch\n",
    "import time\n",
    "import importlib\n",
    "import preprocessing"
   ]
  },
  {
   "cell_type": "code",
   "execution_count": 2,
   "metadata": {},
   "outputs": [],
   "source": [
    "def get_model():\n",
    "    # cuda release cached memory\n",
    "    torch.cuda.empty_cache()\n",
    "    model_ft = resnet50(pretrained=True)\n",
    "    input_features = model_ft.fc.in_features\n",
    "    model_ft.fc = torch.nn.Linear(input_features, 2)\n",
    "    if torch.cuda.is_available():\n",
    "        model_ft = model_ft.cuda()\n",
    "    return model_ft\n",
    "\n",
    "def training(model_ft, datasets, epochs=25, learning_rate=0.001):\n",
    "    begin = time.time()\n",
    "    \n",
    "    datasets_size = {'train': len(datasets['train'].dataset), 'valid' : len(datasets['valid'].dataset)}\n",
    "        \n",
    "    criterion = torch.nn.CrossEntropyLoss()\n",
    "    optimizer = torch.optim.Adam(model_ft.parameters(), lr=learning_rate)\n",
    "    lr_scheduler = torch.optim.lr_scheduler.StepLR(optimizer, step_size=5, gamma=0.1)\n",
    "    \n",
    "    for epoch in range(epochs):\n",
    "        epoch_time = time.time()\n",
    "        print(f'----------------- Epoch {epoch} -----------------')\n",
    "        for mode in ['train', 'valid']:\n",
    "            if mode == 'train':\n",
    "                model_ft.train(True)\n",
    "            else:\n",
    "                model_ft.train(False)\n",
    "            \n",
    "            total_corrects = 0\n",
    "            total_loss = 0\n",
    "                        \n",
    "            # mini batch\n",
    "            for data in datasets[mode]:\n",
    "                inputs, labels = data\n",
    "                if torch.cuda.is_available():\n",
    "                    inputs = inputs.cuda()\n",
    "                    labels = labels.cuda()\n",
    "\n",
    "                if mode == 'train':\n",
    "                    optimizer.zero_grad()\n",
    "\n",
    "                outputs = model_ft(inputs)\n",
    "                loss = criterion(outputs, labels)\n",
    "                _, preds = torch.max(outputs.data, 1)\n",
    "                \n",
    "                if mode == 'train':\n",
    "                    loss.backward()\n",
    "                    optimizer.step()\n",
    "                    \n",
    "                total_loss += loss.item()\n",
    "                total_corrects += torch.sum(preds == labels).item()\n",
    "            \n",
    "            print(f'{mode} Error : {total_loss / datasets_size[mode]}')\n",
    "            print(f'{mode} Correct : {total_corrects / datasets_size[mode]}')\n",
    "            print(f'Time : {epoch_time / (60)}M')\n",
    "            \n",
    "        # decay learning rate according to epoch\n",
    "        lr_scheduler.step()\n",
    "    \n",
    "    "
   ]
  },
  {
   "cell_type": "code",
   "execution_count": 3,
   "metadata": {},
   "outputs": [],
   "source": [
    "train_data = preprocessing.dataset_load('./dogs-vs-cats-redux-kernels-edition/train/train', 32, True, 3)\n",
    "valid_data = preprocessing.dataset_load('./dogs-vs-cats-redux-kernels-edition/train/valid', 32, True, 3)\n",
    "datasets = {'train' : train_data, 'valid' : valid_data}\n",
    "\n",
    "model_ft = get_model()"
   ]
  },
  {
   "cell_type": "code",
   "execution_count": null,
   "metadata": {},
   "outputs": [
    {
     "name": "stdout",
     "output_type": "stream",
     "text": [
      "----------------- Epoch 0 -----------------\n",
      "train Error : 0.007070814488165909\n",
      "train Correct : 0.9026666666666666\n",
      "Time : 26362137.050365787M\n",
      "----------------- Epoch 0 -----------------\n",
      "valid Error : 0.005345998051762581\n",
      "valid Correct : 0.932\n",
      "Time : 26362137.182647176M\n",
      "----------------- Epoch 1 -----------------\n",
      "train Error : 0.004672418549077378\n",
      "train Correct : 0.9386222222222222\n",
      "Time : 26362139.80254138M\n",
      "----------------- Epoch 1 -----------------\n",
      "valid Error : 0.0043663413725793365\n",
      "valid Correct : 0.9436\n",
      "Time : 26362139.92593534M\n",
      "----------------- Epoch 2 -----------------\n",
      "train Error : 0.003959796860317389\n",
      "train Correct : 0.9495111111111111\n",
      "Time : 26362142.539418347M\n",
      "----------------- Epoch 2 -----------------\n",
      "valid Error : 0.005420207419246435\n",
      "valid Correct : 0.9356\n",
      "Time : 26362142.66357204M\n"
     ]
    }
   ],
   "source": [
    "training(model_ft, datasets)\n",
    "print('current memory allocated: {}'.format(torch.cuda.memory_allocated() / 1024 ** 2))\n",
    "print('max memory allocated: {}'.format(torch.cuda.max_memory_allocated() / 1024 ** 2))\n",
    "print('cached memory: {}'.format(torch.cuda.memory_cached() / 1024 ** 2))"
   ]
  },
  {
   "cell_type": "code",
   "execution_count": 25,
   "metadata": {},
   "outputs": [
    {
     "data": {
      "text/plain": [
       "True"
      ]
     },
     "execution_count": 25,
     "metadata": {},
     "output_type": "execute_result"
    }
   ],
   "source": []
  },
  {
   "cell_type": "code",
   "execution_count": null,
   "metadata": {},
   "outputs": [],
   "source": []
  }
 ],
 "metadata": {
  "kernelspec": {
   "display_name": "Python 3",
   "language": "python",
   "name": "python3"
  },
  "language_info": {
   "codemirror_mode": {
    "name": "ipython",
    "version": 3
   },
   "file_extension": ".py",
   "mimetype": "text/x-python",
   "name": "python",
   "nbconvert_exporter": "python",
   "pygments_lexer": "ipython3",
   "version": "3.7.6"
  }
 },
 "nbformat": 4,
 "nbformat_minor": 4
}
