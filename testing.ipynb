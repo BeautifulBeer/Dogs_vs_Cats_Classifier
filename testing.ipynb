{
 "cells": [
  {
   "cell_type": "code",
   "execution_count": 2,
   "metadata": {},
   "outputs": [],
   "source": [
    "from torch.utils.data import Dataset, DataLoader\n",
    "# from torch.autograd import Variable\n",
    "from PIL import Image\n",
    "import pandas as pd\n",
    "import glob\n",
    "import torch"
   ]
  },
  {
   "cell_type": "code",
   "execution_count": 4,
   "metadata": {},
   "outputs": [],
   "source": [
    "'''\n",
    "Define dataset class for test dataset\n",
    "'''\n",
    "class test_dataset(Dataset):\n",
    "    def __init__(self, path, transform):\n",
    "        self.files = glob.glob(path)\n",
    "        self.transform = transform\n",
    "\n",
    "    def __len__(self):\n",
    "        return len(self.files)\n",
    "    \n",
    "    def __getitem__(self, idx):\n",
    "        img = self.transform(Image.open(self.files[idx]))\n",
    "        label = self.files[idx].split('\\\\')[-1].split('.')[0]\n",
    "        return img, label\n",
    "\n",
    "def testing(model, test_data):\n",
    "    result = []\n",
    "    test_data_gen = DataLoader(test_data, batch_size=1)\n",
    "    for data in test_data_gen:\n",
    "        inputs, labels = data\n",
    "        if torch.cuda.is_available():\n",
    "            inputs = inputs.cuda()\n",
    "        outputs = model(inputs)\n",
    "        _, pred = torch.max(outputs.data, 1)\n",
    "        result.append([labels[0], pred.item()])\n",
    "    return result\n",
    "\n",
    "'''\n",
    "It's necessary to export predicted result as a csv file to participate kaggle competition, \"dogs vs cats redux kernel edition\".\n",
    "'''\n",
    "def export_submission(result):\n",
    "    result.sort(key=lambda element: int(element[0]))\n",
    "    pd.DataFrame(result, columns=['id', 'label']).to_csv('submission.csv', index=False)"
   ]
  }
 ],
 "metadata": {
  "kernelspec": {
   "display_name": "Python 3",
   "language": "python",
   "name": "python3"
  },
  "language_info": {
   "codemirror_mode": {
    "name": "ipython",
    "version": 3
   },
   "file_extension": ".py",
   "mimetype": "text/x-python",
   "name": "python",
   "nbconvert_exporter": "python",
   "pygments_lexer": "ipython3",
   "version": "3.7.6"
  }
 },
 "nbformat": 4,
 "nbformat_minor": 4
}
